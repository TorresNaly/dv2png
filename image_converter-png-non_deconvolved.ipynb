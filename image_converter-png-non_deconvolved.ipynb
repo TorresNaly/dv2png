{
 "cells": [
  {
   "cell_type": "markdown",
   "id": "b0ad0f2b",
   "metadata": {
    "tags": []
   },
   "source": [
    "#### FISH Image Converter-local (v 1.0)"
   ]
  },
  {
   "cell_type": "code",
   "execution_count": null,
   "id": "2a7a69f0",
   "metadata": {
    "jupyter": {
     "source_hidden": true
    },
    "tags": []
   },
   "outputs": [],
   "source": [
    "# Import packages\n",
    "import os\n",
    "import shutil\n",
    "from smb.SMBConnection import SMBConnection\n",
    "import tempfile\n",
    "import re\n",
    "\n",
    "import matplotlib.pyplot as plt\n",
    "import numpy as np\n",
    "\n",
    "import tifffile\n",
    "import bigfish\n",
    "import bigfish.stack as stack\n",
    "import bigfish.plot as plot\n",
    "import bigfish.multistack as multistack\n",
    "import bigfish.detection as detection\n"
   ]
  },
  {
   "cell_type": "markdown",
   "id": "86e8b495",
   "metadata": {},
   "source": [
    "### Input Image info:"
   ]
  },
  {
   "cell_type": "code",
   "execution_count": null,
   "id": "c35f572a",
   "metadata": {
    "tags": []
   },
   "outputs": [],
   "source": [
    "#specify the location of your data on the NAS, remove /Volumes/WormHole\n",
    "input_directory = '/Volumes/WormHole/Naly_2/04_ERM-1-GFP/280829_erm-1_ERM-1'\n",
    "output_directory = '/Volumes/home/01_imaging/ERM-1_GFP'\n",
    "folder_name = input_directory.split(os.path.sep)[-1]\n",
    "output_directory = os.path.join(output_directory, folder_name, 'images')\n",
    "\n",
    "#specify what you have in every channel\n",
    "Cy5 = \"set-3 mRNA\" #(asymmetrical control)\n",
    "mCherry = \"erm-1 mRNA\" #(query mRNA)\n",
    "FITC = \"membrane\" #(ignore in this case) This is where protein markers usually go.\n",
    "DAPI = \"DAPI\"\n"
   ]
  },
  {
   "cell_type": "markdown",
   "id": "0bab9bf0-381c-46ed-a30b-bf23332a86a1",
   "metadata": {},
   "source": [
    "### Input NAS credentials. Connect."
   ]
  },
  {
   "cell_type": "code",
   "execution_count": null,
   "id": "83306bf7-e299-4d70-8f41-b1af674d2cf4",
   "metadata": {},
   "outputs": [],
   "source": [
    "# NAS credentials and connection information\n",
    "nas_host = '' #nas_server_hostname_or_ip'\n",
    "nas_user = '' #your_username\n",
    "nas_password = '' #your_password\n",
    "nas_share = ''" #your_parent_directory
   ]
  },
  {
   "cell_type": "code",
   "execution_count": null,
   "id": "93ec442c-3af3-4abd-9c37-1098fd8be002",
   "metadata": {},
   "outputs": [
    {
     "name": "stdout",
     "output_type": "stream",
     "text": [
      "Connection is established.\n"
     ]
    }
   ],
   "source": [
    "smb_directory_path = os.path.relpath(input_directory, '/Volumes/WormHole')\n",
    "\n",
    "# Connect to the NAS\n",
    "conn = SMBConnection(nas_user, nas_password, 'python-client', nas_host, use_ntlm_v2=True)\n",
    "conn.connect(nas_host, 445)\n",
    "\n",
    "# Check if the listing was successful (connection is established)\n",
    "shared_files = conn.listPath(nas_share, '/')\n",
    "if shared_files:\n",
    "    print(\"Connection is established.\")\n",
    "else:\n",
    "    print(\"Connection is not established.\")\n",
    "\n",
    "# #Iterate through the files in the shared directory\n",
    "shared_files = conn.listPath(nas_share, smb_directory_path) # move into folder with raw data"
   ]
  },
  {
   "cell_type": "markdown",
   "id": "6ff14853-fc24-47de-a50a-a00d3986684d",
   "metadata": {},
   "source": [
    "#### 1.2 Read images directly from the NAS"
   ]
  },
  {
   "cell_type": "code",
   "execution_count": null,
   "id": "2c248154-3e65-4dfe-8b2f-41d3c5498175",
   "metadata": {},
   "outputs": [
    {
     "name": "stdout",
     "output_type": "stream",
     "text": [
      "image colors read: 0\n",
      "bf read: 16\n"
     ]
    }
   ],
   "source": [
    "#Read all the image_color_paths and bf_paths in separate lists\n",
    "\n",
    "image_color_paths = []\n",
    "bf_paths = []\n",
    "\n",
    "for shared_file in shared_files:\n",
    "    file_path = os.path.join(input_directory, shared_file.filename) \n",
    "    if shared_file.filename.endswith(\"R3D.dv\"):\n",
    "        # If it does, append it to the image_colors_paths list\n",
    "        image_color_paths.append(file_path)\n",
    "    elif shared_file.filename.endswith(\"_R3D_REF.dv\"):\n",
    "        # If it ends with \"_R3D_REF.dv\", append it to the bf_paths list\n",
    "        bf_paths.append(file_path)\n",
    "\n",
    "# Sort the lists\n",
    "image_color_paths = sorted(image_color_paths)\n",
    "bf_paths = sorted(bf_paths)\n",
    "\n",
    "# Print or use the lists as needed\n",
    "# print(image_colors_paths)\n",
    "# print(bf_paths)\n",
    "\n",
    "\n",
    "#Read all the image_color stacks\n",
    "all_image_color_stacks = []\n",
    "for image_color_path in image_color_paths:\n",
    "    image_color_stack = stack.read_dv(image_color_path, sanity_check=False)\n",
    "    all_image_color_stacks.append(image_color_stack)\n",
    "all_image_stacks = all_image_color_stacks\n",
    "\n",
    "#Read all the image_color stacks\n",
    "all_bf_stacks = []\n",
    "for bf_path in bf_paths:\n",
    "    bf_stack = stack.read_dv(bf_path, sanity_check=False)\n",
    "    all_bf_stacks.append(bf_stack)\n",
    "\n",
    "# Now, all_image_stacks contains the image data from all the .dv files, organized by subdirectory.\n",
    "print(f'image colors read: {len(all_image_color_stacks)}')\n",
    "print(f'bf read: {len(all_bf_stacks)}')\n",
    "\n",
    "\n",
    "#print the filenames (not the entire path), save in a list \n",
    "filenames = [shared_file.filename for shared_file in shared_files if shared_file.filename.endswith((\"_R3D.dv\",\"_R3D_REF.dv\"))]\n",
    "filenames = sorted(filenames)\n",
    "# filenames"
   ]
  },
  {
   "cell_type": "code",
   "execution_count": null,
   "id": "8644b07c-02eb-4f52-ad55-9d6d19ebdce5",
   "metadata": {},
   "outputs": [],
   "source": [
    "subdirectories = []\n",
    "\n",
    "for image_color_path in image_color_paths:\n",
    "    # Extract the file name without extension\n",
    "    file_name = os.path.splitext(os.path.basename(image_color_path))[0]\n",
    "    parts = file_name.split('_')\n",
    "    numeric_part = None\n",
    "    for i, part in enumerate(parts):\n",
    "        if part == 'R3D':\n",
    "            numeric_part = parts[i - 1]\n",
    "            break\n",
    "\n",
    "    if numeric_part is not None:\n",
    "        subdirectories.append(numeric_part)\n",
    "\n",
    "# print(subdirectories)"
   ]
  },
  {
   "cell_type": "code",
   "execution_count": null,
   "id": "a3a56219-9705-4df4-b3cd-f97a93f70943",
   "metadata": {
    "tags": []
   },
   "outputs": [
    {
     "name": "stdout",
     "output_type": "stream",
     "text": [
      "0 images saved in /Volumes/home/01_imaging/ERM-1_GFP/280829_erm-1_ERM-1/images\n"
     ]
    }
   ],
   "source": [
    "all_color_channel_list = []\n",
    "output_subdirectories = []\n",
    "# Now iterate through all_image_color_stacks and extract every channel, then store it in all_color_channel_list \n",
    "\n",
    "for i, stack in enumerate(all_image_color_stacks):\n",
    "    image_colors = all_image_color_stacks[i]\n",
    "    \n",
    "    # Assuming image_colors is a 4D array where the first dimension represents different channels\n",
    "    for channel_index in range(image_colors.shape[0]):\n",
    "        current_image = image_colors[channel_index, :, :]\n",
    "        all_color_channel_list.append(current_image)\n",
    "        \n",
    "\n",
    "        # Save each image as a PNG file in a subdirectory named after the numeric part\n",
    "        output_subdirectory = os.path.join(output_directory, f\"{subdirectories[i]}\")\n",
    "        os.makedirs(output_subdirectory, exist_ok=True)\n",
    "\n",
    "        channel_name = None\n",
    "        if channel_index == 0:\n",
    "            channel_name = Cy5\n",
    "        elif channel_index == 1:\n",
    "            channel_name = mCherry\n",
    "        elif channel_index == 2:\n",
    "            channel_name = FITC\n",
    "        elif channel_index == 3:\n",
    "            channel_name = DAPI\n",
    " \n",
    "        # Save each image as a PNG file\n",
    "        plot_filename = os.path.join(output_subdirectory, f\"{subdirectories[i]}_{channel_name}_non_deconvolved.png\")\n",
    "        plt.imsave(plot_filename, np.max(current_image, axis=0), cmap='gray')  # Adjust cmap if needed\n",
    "        output_subdirectories.append(output_subdirectory)\n",
    "        \n",
    "#use the images in the display function\n",
    "def plot(all_color_channel_list):\n",
    "    # Create subplots for each image in the list\n",
    "    num_images = len(all_color_channel_list)\n",
    "    fig, ax = plt.subplots(1, num_images, figsize=(24, 5))\n",
    "\n",
    "    for i, image in enumerate(all_color_channel_list):\n",
    "        ax[i].imshow(image, cmap='gray')\n",
    "        ax[i].set_title(f\"Image {i}\")\n",
    "        ax[i].axis('off')\n",
    "\n",
    "    plt.show()\n",
    "\n",
    "# Print the directory where the images are stored\n",
    "print(f\"{len(output_subdirectories)} images saved in {output_directory}\")\n"
   ]
  },
  {
   "cell_type": "code",
   "execution_count": null,
   "id": "3e2fe366-d1d4-4e19-b90e-c0acbc617d2c",
   "metadata": {},
   "outputs": [],
   "source": []
  }
 ],
 "metadata": {
  "kernelspec": {
   "display_name": "Python 3",
   "language": "python",
   "name": "python3"
  },
  "language_info": {
   "codemirror_mode": {
    "name": "ipython",
    "version": 3
   },
   "file_extension": ".py",
   "mimetype": "text/x-python",
   "name": "python",
   "nbconvert_exporter": "python",
   "pygments_lexer": "ipython3",
   "version": "3.6.13"
  }
 },
 "nbformat": 4,
 "nbformat_minor": 5
}
