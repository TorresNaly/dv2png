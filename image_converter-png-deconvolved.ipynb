{
 "cells": [
  {
   "cell_type": "markdown",
   "id": "86f252d2-b8d6-4909-985a-51fb20cec21b",
   "metadata": {
    "tags": []
   },
   "source": [
    "## FISH Image Converter-local (version 1.0)"
   ]
  },
  {
   "cell_type": "code",
   "execution_count": null,
   "id": "2a7a69f0",
   "metadata": {
    "jupyter": {
     "source_hidden": true
    },
    "tags": []
   },
   "outputs": [],
   "source": [
    "# Import packages\n",
    "import os\n",
    "import shutil\n",
    "from smb.SMBConnection import SMBConnection\n",
    "import tempfile\n",
    "import re\n",
    "\n",
    "import matplotlib.pyplot as plt\n",
    "import numpy as np\n",
    "\n",
    "# import tifffile\n",
    "import bigfish\n",
    "import bigfish.stack as stack\n",
    "import bigfish.plot as plot\n",
    "import bigfish.multistack as multistack\n",
    "import bigfish.detection as detection\n",
    "\n",
    "from fpdf import FPDF\n",
    "import os\n",
    "import glob\n",
    "from datetime import datetime\n"
   ]
  },
  {
   "cell_type": "markdown",
   "id": "86e8b495",
   "metadata": {},
   "source": [
    "#### Input Experiment info:"
   ]
  },
  {
   "cell_type": "code",
   "execution_count": null,
   "id": "c35f572a",
   "metadata": {
    "tags": []
   },
   "outputs": [],
   "source": [
    "your_name = '' #your_name\n",
    "\n",
    "#specify the location of your data on the NAS\n",
    "input_directory = '' #/your/input/directory\n",
    "output_directory = '' #/your/output/directory\n",
    "\n",
    "\n",
    "#specify what you have in every channel\n",
    "Cy5 = \" \" # your 670 channel (asymmetric control)\n",
    "mCherry = \" \" # your 610 channel (query RNA)\n",
    "FITC = \" \" # your protein channel (protein markers)\n",
    "DAPI = \" \" \n",
    "\n",
    "\n",
    "# NAS credentials and connection information\n",
    "nas_host = ' ' #your_nas_server_hostname_or_ip'\n",
    "nas_user = ' ' #your_username\n",
    "nas_password = ' ' #your_password\n",
    "nas_share = 'WormHole' #(specific for the Nishimura lab - edit accordingly)"
   ]
  },
  {
   "cell_type": "markdown",
   "id": "0bab9bf0-381c-46ed-a30b-bf23332a86a1",
   "metadata": {},
   "source": [
    "#### Connect to the NAS"
   ]
  },
  {
   "cell_type": "code",
   "execution_count": null,
   "id": "93ec442c-3af3-4abd-9c37-1098fd8be002",
   "metadata": {
    "jupyter": {
     "source_hidden": true
    },
    "tags": []
   },
   "outputs": [],
   "source": [
    "experiment_ID = input_directory.split(os.path.sep)[-1]\n",
    "output_directory = os.path.join(output_directory, experiment_ID, 'images')\n",
    "\n",
    "# Connect to the NAS\n",
    "conn = SMBConnection(nas_user, nas_password, 'python-client', nas_host, use_ntlm_v2=True)\n",
    "conn.connect(nas_host, 445)\n",
    "\n",
    "# Check if connection is successfully established\n",
    "smb_directory_path = os.path.relpath(input_directory, '/Volumes/WormHole')\n",
    "shared_files = conn.listPath(nas_share, smb_directory_path) # move into folder with raw data\n",
    "if shared_files:\n",
    "    print(\"Connection is established.\")\n",
    "else:\n",
    "    print(\"Connection is not established.\")\n",
    "    \n",
    "# #print the filenames, save in a list \n",
    "# filenames = [shared_file.filename for shared_file in shared_files if shared_file.filename.endswith((\"_R3D.dv\",\"_R3D_REF.dv\"))]\n",
    "# filenames = sorted(filenames)\n",
    "# filenames"
   ]
  },
  {
   "cell_type": "markdown",
   "id": "6ae67898-a1ab-42ca-9ca1-a3170ad411cd",
   "metadata": {},
   "source": [
    "\n",
    "## <font color='red'>STOP!</font> Do not edit below this line"
   ]
  },
  {
   "cell_type": "markdown",
   "id": "6ff14853-fc24-47de-a50a-a00d3986684d",
   "metadata": {},
   "source": [
    "### 1. Code to read images directly from the NAS and save as a png"
   ]
  },
  {
   "cell_type": "markdown",
   "id": "d81e98a2-73d9-4ad4-ad58-73b6f9fe699d",
   "metadata": {},
   "source": [
    "#### 1.1 List file paths and read image stacks"
   ]
  },
  {
   "cell_type": "code",
   "execution_count": null,
   "id": "2c248154-3e65-4dfe-8b2f-41d3c5498175",
   "metadata": {
    "jupyter": {
     "source_hidden": true
    },
    "tags": []
   },
   "outputs": [],
   "source": [
    "#List all the color images and brightfield images in separate lists\n",
    "image_color_paths = []\n",
    "bf_paths = []\n",
    "\n",
    "for shared_file in shared_files:\n",
    "    file_path = os.path.join(input_directory, shared_file.filename) \n",
    "    if shared_file.filename.endswith(\"_R3D_D3D.dv\"):\n",
    "        # If it does, append it to the image_colors_paths list\n",
    "        image_color_paths.append(file_path)\n",
    "        image_color_paths = sorted(image_color_paths)\n",
    "    elif shared_file.filename.endswith(\"_R3D_REF.dv\"):\n",
    "        # If it ends with \"_R3D_REF.dv\", append it to the bf_paths list\n",
    "        bf_paths.append(file_path)\n",
    "        bf_paths = sorted(bf_paths)\n",
    "\n",
    "#Read all the image_color stacks and extract the image identifiers to save in \"subdirectories\"\n",
    "all_image_color_stacks = []\n",
    "subdirectories = []\n",
    "for image_color_path in image_color_paths:\n",
    "    image_color_stack = stack.read_dv(image_color_path, sanity_check=False)\n",
    "    all_image_color_stacks.append(image_color_stack)\n",
    "    file_name = os.path.splitext(os.path.basename(image_color_path))[0]\n",
    "    parts = file_name.split('_')\n",
    "    numeric_part = None\n",
    "    for i, part in enumerate(parts):\n",
    "        if part == 'R3D':\n",
    "            numeric_part = parts[i - 1]\n",
    "            break\n",
    "    if numeric_part is not None:\n",
    "        subdirectories.append(numeric_part)\n",
    "\n",
    "#Read all the bf stacks\n",
    "all_bf_stacks = []\n",
    "for bf_path in bf_paths:\n",
    "    bf_stack = stack.read_dv(bf_path, sanity_check=False)\n",
    "    all_bf_stacks.append(bf_stack)\n",
    "\n",
    "#  #un-comment to check image identifiers\n",
    "# print(f'image colors read: {len(all_image_color_stacks)} {image_color_paths}')\n",
    "# print()\n",
    "# print(f'bf images read: {len(all_bf_stacks)} {bf_paths}')\n",
    "# print()\n",
    "# print(subdirectories)"
   ]
  },
  {
   "cell_type": "markdown",
   "id": "b0ce6d1d-e55d-4d43-b4cf-5c20ce13a509",
   "metadata": {},
   "source": [
    "#### 1.2 Split channels, max project and save in image subdirectory"
   ]
  },
  {
   "cell_type": "code",
   "execution_count": null,
   "id": "a3a56219-9705-4df4-b3cd-f97a93f70943",
   "metadata": {
    "jupyter": {
     "source_hidden": true
    },
    "tags": []
   },
   "outputs": [],
   "source": [
    "# Now iterate through all_image_color_stacks and extract every channel, then store it in all_color_channel_list \n",
    "all_color_channel_list = []\n",
    "for i, stack in enumerate(all_image_color_stacks):\n",
    "    image_colors = all_image_color_stacks[i]\n",
    "    \n",
    "    # Assuming image_colors is a 4D array where the first dimension represents different channels\n",
    "    for channel_index in range(image_colors.shape[0]):\n",
    "        current_image = image_colors[channel_index, :, :]\n",
    "        all_color_channel_list.append(current_image)\n",
    "        \n",
    "\n",
    "        # Create a subdirectory to save each image as a PNG file\n",
    "        output_subdirectory = os.path.join(output_directory, f\"{subdirectories[i]}\")\n",
    "        os.makedirs(output_subdirectory, exist_ok=True)\n",
    "\n",
    "        channel_name = None\n",
    "        if channel_index == 0:\n",
    "            channel_name = Cy5\n",
    "        elif channel_index == 1:\n",
    "            channel_name = mCherry\n",
    "        elif channel_index == 2:\n",
    "            channel_name = FITC\n",
    "        elif channel_index == 3:\n",
    "            channel_name = DAPI\n",
    " \n",
    "        # Save each image as a PNG file\n",
    "        plot_filename = os.path.join(output_subdirectory, f\"{subdirectories[i]}_{channel_name}_deconvolved.png\")\n",
    "        plt.imsave(plot_filename, np.max(current_image, axis=0), cmap='gray')  # Adjust cmap if needed\n",
    "\n",
    "\n",
    "# Print the directory where the images are stored\n",
    "print(f\"{len(subdirectories)} images saved as png in {output_directory}\")"
   ]
  },
  {
   "cell_type": "markdown",
   "id": "b29c8690-9659-4652-8ffe-a5d2eb360365",
   "metadata": {},
   "source": [
    "#### 1.3 Generate pdf report with deconvolved images (as .png)"
   ]
  },
  {
   "cell_type": "code",
   "execution_count": null,
   "id": "9beba9ed-203b-4a13-b704-70b84fb31086",
   "metadata": {
    "jupyter": {
     "source_hidden": true
    },
    "tags": []
   },
   "outputs": [],
   "source": [
    "#Generate report\n",
    "# Function to generate the cover letter\n",
    "def add_cover_letter(experiment_details):\n",
    "    pdf.add_page()\n",
    "    pdf.set_font(\"Arial\", size=16)\n",
    "    pdf.cell(200, 10, txt=(f\"Experiment Title: {experiment_ID}\"), ln=True, align='C')\n",
    "    pdf.ln(10)\n",
    "\n",
    "    # Add experiment details\n",
    "    for detail in experiment_details:\n",
    "        pdf.cell(200, 10, txt=detail, ln=True, align='L')\n",
    "    \n",
    "    pdf.ln(10)\n",
    "\n",
    "# Create a PDF report\n",
    "pdf_filename = os.path.join(output_directory, \"report.pdf\")\n",
    "pdf = FPDF()\n",
    "pdf.set_auto_page_break(auto=True, margin=15)\n",
    "\n",
    "# Add cover letter once at the beginning\n",
    "today_date = datetime.now().strftime(\"%B %d, %Y\")\n",
    "add_cover_letter([f\"Date: {today_date}\",\n",
    "                  f\"Researcher: {your_name}\"])\n",
    "\n",
    "\n",
    "# Iterate through subdirectories and add pages with images\n",
    "for subdirectory in sorted(subdirectories):    \n",
    "    pdf.add_page()\n",
    "    pdf.set_font(\"Arial\", size=12)\n",
    "    \n",
    "        # \"Experiment Title\" and \"Image ID\" on every page to specify details of that specific image\n",
    "    pdf.cell(100, 10, txt=f\"Experiment Title: {experiment_ID}\", ln=True, align='L')\n",
    "    pdf.cell(100, 10, txt=f\"Image ID: {subdirectory}\", ln=True, align='R')\n",
    "    pdf.ln(10)\n",
    "\n",
    "\n",
    "    # Get PNG files in the subdirectory\n",
    "    subdirectory_path = os.path.join(output_directory, subdirectory)\n",
    "    png_files = glob.glob(os.path.join(subdirectory_path, '*.png'))\n",
    "\n",
    "    # Calculate the number of columns that can fit on the page\n",
    "    max_columns = 4  # You can adjust this value based on your preference\n",
    "    num_columns = min(len(png_files), max_columns)\n",
    "\n",
    "    # Calculate the width of each column\n",
    "    column_width = 190 / num_columns\n",
    "\n",
    "    # Add images to the PDF in columns with space between images\n",
    "    for i, png_file in enumerate(sorted(png_files)):\n",
    "        x_position = pdf.get_x() + i % num_columns * column_width\n",
    "        y_position = pdf.get_y() + int(i / num_columns) * 80  # Adjust space between rows\n",
    "\n",
    "        pdf.image(png_file, x=x_position, y=y_position, w=column_width)\n",
    "    \n",
    "    pdf.ln(80 * ((len(png_files) - 1) // num_columns + 1))  # Adjust line height based on the number of rows\n",
    "\n",
    "# Output the PDF file\n",
    "pdf.output(pdf_filename)\n",
    "\n",
    "print(f\"PDF report created: {pdf_filename}\")\n"
   ]
  },
  {
   "cell_type": "code",
   "execution_count": null,
   "id": "ed31bae4-99e8-4f09-916b-53155c5785d8",
   "metadata": {
    "jupyter": {
     "source_hidden": true
    },
    "tags": []
   },
   "outputs": [],
   "source": [
    "# # Function to generate the cover letter\n",
    "# def add_cover_letter(experiment_details):\n",
    "#     pdf.add_page()\n",
    "#     pdf.set_font(\"Arial\", size=16)\n",
    "#     pdf.cell(200, 10, txt=(f\"Experiment Title: {experiment_ID}\"), ln=True, align='C')\n",
    "#     pdf.ln(10)\n",
    "\n",
    "#     # Add experiment details\n",
    "#     for detail in experiment_details:\n",
    "#         pdf.cell(200, 10, txt=detail, ln=True, align='L')\n",
    "    \n",
    "#     pdf.ln(10)\n",
    "\n",
    "# # Create a PDF report\n",
    "# pdf_filename = os.path.join(output_directory, \"report_multiple.pdf\")\n",
    "# pdf = FPDF()\n",
    "# pdf.set_auto_page_break(auto=True, margin=15)\n",
    "\n",
    "# # Add cover letter once at the beginning\n",
    "# today_date = datetime.now().strftime(\"%B %d, %Y\")\n",
    "# add_cover_letter([f\"Date: {today_date}\",\n",
    "#                   \"Researcher: Your Name\"])\n",
    "\n",
    "# # Iterate through subdirectories and add pages with images\n",
    "# pdf.add_page()\n",
    "# pdf.set_font(\"Arial\", size=12)\n",
    "# max_columns = 4  # You can adjust this value based on your preference\n",
    "# column_width = 190 / max_columns\n",
    "\n",
    "# for i, subdirectory in enumerate(sorted(subdirectories)):\n",
    "#     # \"Experiment Title\" and \"Image ID\" on every page to specify details of that specific image\n",
    "#     pdf.cell(100, 10, txt=f\"Experiment Title: {experiment_ID}\", ln=True, align='L')\n",
    "#     pdf.cell(100, 10, txt=f\"Image ID: {subdirectory}\", ln=True, align='R')\n",
    "\n",
    "#     # Get PNG files in the subdirectory\n",
    "#     subdirectory_path = os.path.join(output_directory, subdirectory)\n",
    "#     png_files = glob.glob(os.path.join(subdirectory_path, '*.png'))\n",
    "\n",
    "#     # Calculate the number of columns that can fit on the page\n",
    "#     num_columns = min(len(png_files), max_columns)\n",
    "\n",
    "#     # Add images to the PDF in columns with space between images\n",
    "#     for j, png_file in enumerate(sorted(png_files)):\n",
    "#         x_position = pdf.get_x() + j % num_columns * column_width\n",
    "#         y_position = pdf.get_y() + int(j / num_columns) * 80  # Adjust space between rows\n",
    "\n",
    "#         pdf.image(png_file, x=x_position, y=y_position, w=column_width)\n",
    "\n",
    "#     if (i + 1) % max_columns == 0 and i + 1 < len(subdirectories):\n",
    "#         pdf.add_page()  # Add a new page after every 'max_columns' number of subdirectories\n",
    "\n",
    "# # Output the PDF file\n",
    "# pdf.output(pdf_filename)\n",
    "\n",
    "# print(f\"PDF report created: {pdf_filename}\")\n"
   ]
  },
  {
   "cell_type": "markdown",
   "id": "8cdc3181-be43-4387-8646-2b2574c5e87c",
   "metadata": {},
   "source": [
    "#### Code by Naly Torres. Last edited Jan 24th. 2024"
   ]
  }
 ],
 "metadata": {
  "kernelspec": {
   "display_name": "Python 3",
   "language": "python",
   "name": "python3"
  },
  "language_info": {
   "codemirror_mode": {
    "name": "ipython",
    "version": 3
   },
   "file_extension": ".py",
   "mimetype": "text/x-python",
   "name": "python",
   "nbconvert_exporter": "python",
   "pygments_lexer": "ipython3",
   "version": "3.6.13"
  }
 },
 "nbformat": 4,
 "nbformat_minor": 5
}
