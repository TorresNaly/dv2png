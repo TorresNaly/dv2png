{
 "cells": [
  {
   "cell_type": "markdown",
   "id": "86f252d2-b8d6-4909-985a-51fb20cec21b",
   "metadata": {
    "tags": []
   },
   "source": [
    "#### FISH Image Converter-local (version 1)"
   ]
  },
  {
   "cell_type": "code",
   "execution_count": 1,
   "id": "2a7a69f0",
   "metadata": {
    "tags": []
   },
   "outputs": [],
   "source": [
    "# Import packages\n",
    "import os\n",
    "import shutil\n",
    "from smb.SMBConnection import SMBConnection\n",
    "import tempfile\n",
    "import re\n",
    "\n",
    "import matplotlib.pyplot as plt\n",
    "import numpy as np\n",
    "\n",
    "import tifffile\n",
    "import bigfish\n",
    "import bigfish.stack as stack\n",
    "import bigfish.plot as plot\n",
    "import bigfish.multistack as multistack\n",
    "import bigfish.detection as detection\n"
   ]
  },
  {
   "cell_type": "markdown",
   "id": "86e8b495",
   "metadata": {},
   "source": [
    "#### Input Image info:"
   ]
  },
  {
   "cell_type": "code",
   "execution_count": 2,
   "id": "c35f572a",
   "metadata": {
    "tags": []
   },
   "outputs": [],
   "source": [
    "#specify the location of your data on the NAS\n",
    "input_directory = '/Volumes/WormHole/Naly_2/04_ERM-1-GFP/280829_erm-1_ERM-1'\n",
    "output_directory = '/Volumes/home/01_imaging/ERM-1_GFP/280829_erm-1_ERM-1'\n",
    "folder_name = input_directory.split(os.path.sep)[-1]\n",
    "output_directory = os.path.join(output_directory, folder_name, 'images')\n",
    "\n",
    "#specify what you have in every channel\n",
    "Cy5 = \"set-3 mRNA\" #(asymmetrical control)\n",
    "mCherry = \"erm-1 mRNA\" #(query mRNA)\n",
    "FITC = \"membrane\" #(ignore in this case) This is where protein markers usually go.\n",
    "DAPI = \"DAPI\"\n"
   ]
  },
  {
   "cell_type": "markdown",
   "id": "0bab9bf0-381c-46ed-a30b-bf23332a86a1",
   "metadata": {},
   "source": [
    "#### Input NAS credentials:"
   ]
  },
  {
   "cell_type": "code",
   "execution_count": 3,
   "id": "83306bf7-e299-4d70-8f41-b1af674d2cf4",
   "metadata": {},
   "outputs": [],
   "source": [
    "# NAS credentials and connection information\n",
    "nas_host = '129.82.125.224' #nas_server_hostname_or_ip'\n",
    "nas_user = 'nalyt' #your_username\n",
    "nas_password = 'OA7LNjjfK@f05S' #your_password\n",
    "nas_share = 'WormHole'"
   ]
  },
  {
   "cell_type": "code",
   "execution_count": 4,
   "id": "93ec442c-3af3-4abd-9c37-1098fd8be002",
   "metadata": {
    "tags": []
   },
   "outputs": [
    {
     "name": "stdout",
     "output_type": "stream",
     "text": [
      "Connection is established.\n"
     ]
    }
   ],
   "source": [
    "# Connect to the NAS\n",
    "conn = SMBConnection(nas_user, nas_password, 'python-client', nas_host, use_ntlm_v2=True)\n",
    "conn.connect(nas_host, 445)\n",
    "\n",
    "# Check if connection is successfully established\n",
    "smb_directory_path = os.path.relpath(input_directory, '/Volumes/WormHole')\n",
    "shared_files = conn.listPath(nas_share, smb_directory_path) # move into folder with raw data\n",
    "if shared_files:\n",
    "    print(\"Connection is established.\")\n",
    "else:\n",
    "    print(\"Connection is not established.\")\n",
    "    \n",
    "# #print the filenames, save in a list \n",
    "# filenames = [shared_file.filename for shared_file in shared_files if shared_file.filename.endswith((\"_R3D.dv\",\"_R3D_REF.dv\"))]\n",
    "# filenames = sorted(filenames)\n",
    "# filenames"
   ]
  },
  {
   "cell_type": "markdown",
   "id": "6ff14853-fc24-47de-a50a-a00d3986684d",
   "metadata": {},
   "source": [
    "####  Code to read images directly from the NAS and save as a png"
   ]
  },
  {
   "cell_type": "code",
   "execution_count": 5,
   "id": "2c248154-3e65-4dfe-8b2f-41d3c5498175",
   "metadata": {
    "tags": []
   },
   "outputs": [
    {
     "name": "stdout",
     "output_type": "stream",
     "text": [
      "image colors read: 15 ['/Volumes/WormHole/Naly_2/04_ERM-1-GFP/280829_erm-1_ERM-1/280829_erm-1_ERM-1_01_R3D_D3D.dv', '/Volumes/WormHole/Naly_2/04_ERM-1-GFP/280829_erm-1_ERM-1/280829_erm-1_ERM-1_02_R3D_D3D.dv', '/Volumes/WormHole/Naly_2/04_ERM-1-GFP/280829_erm-1_ERM-1/280829_erm-1_ERM-1_03_R3D_D3D.dv', '/Volumes/WormHole/Naly_2/04_ERM-1-GFP/280829_erm-1_ERM-1/280829_erm-1_ERM-1_04_R3D_D3D.dv', '/Volumes/WormHole/Naly_2/04_ERM-1-GFP/280829_erm-1_ERM-1/280829_erm-1_ERM-1_05_R3D_D3D.dv', '/Volumes/WormHole/Naly_2/04_ERM-1-GFP/280829_erm-1_ERM-1/280829_erm-1_ERM-1_06_R3D_D3D.dv', '/Volumes/WormHole/Naly_2/04_ERM-1-GFP/280829_erm-1_ERM-1/280829_erm-1_ERM-1_07_R3D_D3D.dv', '/Volumes/WormHole/Naly_2/04_ERM-1-GFP/280829_erm-1_ERM-1/280829_erm-1_ERM-1_08_R3D_D3D.dv', '/Volumes/WormHole/Naly_2/04_ERM-1-GFP/280829_erm-1_ERM-1/280829_erm-1_ERM-1_09_R3D_D3D.dv', '/Volumes/WormHole/Naly_2/04_ERM-1-GFP/280829_erm-1_ERM-1/280829_erm-1_ERM-1_10_R3D_D3D.dv', '/Volumes/WormHole/Naly_2/04_ERM-1-GFP/280829_erm-1_ERM-1/280829_erm-1_ERM-1_12_R3D_D3D.dv', '/Volumes/WormHole/Naly_2/04_ERM-1-GFP/280829_erm-1_ERM-1/280829_erm-1_ERM-1_13_R3D_D3D.dv', '/Volumes/WormHole/Naly_2/04_ERM-1-GFP/280829_erm-1_ERM-1/280829_erm-1_ERM-1_14_R3D_D3D.dv', '/Volumes/WormHole/Naly_2/04_ERM-1-GFP/280829_erm-1_ERM-1/280829_erm-1_ERM-1_15_R3D_D3D.dv', '/Volumes/WormHole/Naly_2/04_ERM-1-GFP/280829_erm-1_ERM-1/280829_erm-1_ERM-1_16_R3D_D3D.dv']\n",
      "bf images read: 16 ['/Volumes/WormHole/Naly_2/04_ERM-1-GFP/280829_erm-1_ERM-1/280829_erm-1_ERM-1_01_R3D_REF.dv', '/Volumes/WormHole/Naly_2/04_ERM-1-GFP/280829_erm-1_ERM-1/280829_erm-1_ERM-1_02_R3D_REF.dv', '/Volumes/WormHole/Naly_2/04_ERM-1-GFP/280829_erm-1_ERM-1/280829_erm-1_ERM-1_03_R3D_REF.dv', '/Volumes/WormHole/Naly_2/04_ERM-1-GFP/280829_erm-1_ERM-1/280829_erm-1_ERM-1_04_R3D_REF.dv', '/Volumes/WormHole/Naly_2/04_ERM-1-GFP/280829_erm-1_ERM-1/280829_erm-1_ERM-1_05_R3D_REF.dv', '/Volumes/WormHole/Naly_2/04_ERM-1-GFP/280829_erm-1_ERM-1/280829_erm-1_ERM-1_06_R3D_REF.dv', '/Volumes/WormHole/Naly_2/04_ERM-1-GFP/280829_erm-1_ERM-1/280829_erm-1_ERM-1_07_R3D_REF.dv', '/Volumes/WormHole/Naly_2/04_ERM-1-GFP/280829_erm-1_ERM-1/280829_erm-1_ERM-1_08_R3D_REF.dv', '/Volumes/WormHole/Naly_2/04_ERM-1-GFP/280829_erm-1_ERM-1/280829_erm-1_ERM-1_09_R3D_REF.dv', '/Volumes/WormHole/Naly_2/04_ERM-1-GFP/280829_erm-1_ERM-1/280829_erm-1_ERM-1_10_R3D_REF.dv', '/Volumes/WormHole/Naly_2/04_ERM-1-GFP/280829_erm-1_ERM-1/280829_erm-1_ERM-1_11_R3D_REF.dv', '/Volumes/WormHole/Naly_2/04_ERM-1-GFP/280829_erm-1_ERM-1/280829_erm-1_ERM-1_12_R3D_REF.dv', '/Volumes/WormHole/Naly_2/04_ERM-1-GFP/280829_erm-1_ERM-1/280829_erm-1_ERM-1_13_R3D_REF.dv', '/Volumes/WormHole/Naly_2/04_ERM-1-GFP/280829_erm-1_ERM-1/280829_erm-1_ERM-1_14_R3D_REF.dv', '/Volumes/WormHole/Naly_2/04_ERM-1-GFP/280829_erm-1_ERM-1/280829_erm-1_ERM-1_15_R3D_REF.dv', '/Volumes/WormHole/Naly_2/04_ERM-1-GFP/280829_erm-1_ERM-1/280829_erm-1_ERM-1_16_R3D_REF.dv']\n",
      "['01', '02', '03', '04', '05', '06', '07', '08', '09', '10', '12', '13', '14', '15', '16']\n"
     ]
    }
   ],
   "source": [
    "#List all the color images and brightfield images in separate lists\n",
    "image_color_paths = []\n",
    "bf_paths = []\n",
    "\n",
    "for shared_file in shared_files:\n",
    "    file_path = os.path.join(input_directory, shared_file.filename) \n",
    "    if shared_file.filename.endswith(\"_R3D_D3D.dv\"):\n",
    "        # If it does, append it to the image_colors_paths list\n",
    "        image_color_paths.append(file_path)\n",
    "        image_color_paths = sorted(image_color_paths)\n",
    "    elif shared_file.filename.endswith(\"_R3D_REF.dv\"):\n",
    "        # If it ends with \"_R3D_REF.dv\", append it to the bf_paths list\n",
    "        bf_paths.append(file_path)\n",
    "        bf_paths = sorted(bf_paths)\n",
    "\n",
    "#Read all the image_color stacks and extract the image identifiers to save in \"subdirectories\"\n",
    "all_image_color_stacks = []\n",
    "subdirectories = []\n",
    "for image_color_path in image_color_paths:\n",
    "    image_color_stack = stack.read_dv(image_color_path, sanity_check=False)\n",
    "    all_image_color_stacks.append(image_color_stack)\n",
    "    file_name = os.path.splitext(os.path.basename(image_color_path))[0]\n",
    "    parts = file_name.split('_')\n",
    "    numeric_part = None\n",
    "    for i, part in enumerate(parts):\n",
    "        if part == 'R3D':\n",
    "            numeric_part = parts[i - 1]\n",
    "            break\n",
    "    if numeric_part is not None:\n",
    "        subdirectories.append(numeric_part)\n",
    "\n",
    "#Read all the bf stacks\n",
    "all_bf_stacks = []\n",
    "for bf_path in bf_paths:\n",
    "    bf_stack = stack.read_dv(bf_path, sanity_check=False)\n",
    "    all_bf_stacks.append(bf_stack)\n",
    "\n",
    "# check your lists\n",
    "print(f'image colors read: {len(all_image_color_stacks)} {image_color_paths}')\n",
    "print(f'bf images read: {len(all_bf_stacks)} {bf_paths}')\n",
    "print(subdirectories) #uncomment to check image identifiers"
   ]
  },
  {
   "cell_type": "code",
   "execution_count": 6,
   "id": "65afb176-c8b9-4d72-96a5-8947fc5e3e32",
   "metadata": {},
   "outputs": [
    {
     "data": {
      "text/plain": [
       "4"
      ]
     },
     "execution_count": 6,
     "metadata": {},
     "output_type": "execute_result"
    }
   ],
   "source": [
    "i"
   ]
  },
  {
   "cell_type": "code",
   "execution_count": 7,
   "id": "a3a56219-9705-4df4-b3cd-f97a93f70943",
   "metadata": {
    "tags": []
   },
   "outputs": [
    {
     "ename": "NameError",
     "evalue": "name 'output_subdirectories' is not defined",
     "output_type": "error",
     "traceback": [
      "\u001b[0;31m---------------------------------------------------------------------------\u001b[0m",
      "\u001b[0;31mNameError\u001b[0m                                 Traceback (most recent call last)",
      "\u001b[0;32m<ipython-input-7-0f50a15a8ed8>\u001b[0m in \u001b[0;36m<module>\u001b[0;34m\u001b[0m\n\u001b[1;32m     30\u001b[0m \u001b[0;34m\u001b[0m\u001b[0m\n\u001b[1;32m     31\u001b[0m \u001b[0;31m# Print the directory where the images are stored\u001b[0m\u001b[0;34m\u001b[0m\u001b[0;34m\u001b[0m\u001b[0;34m\u001b[0m\u001b[0m\n\u001b[0;32m---> 32\u001b[0;31m \u001b[0mprint\u001b[0m\u001b[0;34m(\u001b[0m\u001b[0;34mf\"{len(output_subdirectories)} images saved in {output_directory}\"\u001b[0m\u001b[0;34m)\u001b[0m\u001b[0;34m\u001b[0m\u001b[0;34m\u001b[0m\u001b[0m\n\u001b[0m\u001b[1;32m     33\u001b[0m \u001b[0;34m\u001b[0m\u001b[0m\n\u001b[1;32m     34\u001b[0m \u001b[0;34m\u001b[0m\u001b[0m\n",
      "\u001b[0;31mNameError\u001b[0m: name 'output_subdirectories' is not defined"
     ]
    }
   ],
   "source": [
    "# Now iterate through all_image_color_stacks and extract every channel, then store it in all_color_channel_list \n",
    "\n",
    "all_color_channel_list = []\n",
    "for i, stack in enumerate(all_image_color_stacks):\n",
    "    image_colors = all_image_color_stacks[i]\n",
    "    \n",
    "    # Assuming image_colors is a 4D array where the first dimension represents different channels\n",
    "    for channel_index in range(image_colors.shape[0]):\n",
    "        current_image = image_colors[channel_index, :, :]\n",
    "        all_color_channel_list.append(current_image)\n",
    "        \n",
    "\n",
    "        # Create a subdirectory to save each image as a PNG file\n",
    "        output_subdirectory = os.path.join(output_directory, f\"{subdirectories[i]}\")\n",
    "        os.makedirs(output_subdirectory, exist_ok=True)\n",
    "\n",
    "        channel_name = None\n",
    "        if channel_index == 0:\n",
    "            channel_name = Cy5\n",
    "        elif channel_index == 1:\n",
    "            channel_name = mCherry\n",
    "        elif channel_index == 2:\n",
    "            channel_name = FITC\n",
    "        elif channel_index == 3:\n",
    "            channel_name = DAPI\n",
    " \n",
    "        # Save each image as a PNG file\n",
    "        plot_filename = os.path.join(output_subdirectory, f\"{subdirectories[i]}_{channel_name}_deconvolved.png\")\n",
    "        plt.imsave(plot_filename, np.max(current_image, axis=0), cmap='gray')  # Adjust cmap if needed\n",
    "\n",
    "# Print the directory where the images are stored\n",
    "print(f\"{len(output_subdirectories)} images saved in {output_directory}\")\n",
    "\n",
    "\n",
    "#You can use the images in the plot function\n",
    "def plot(all_color_channel_list):\n",
    "    # Create subplots for each image in the list\n",
    "    num_images = len(all_color_channel_list)\n",
    "    fig, ax = plt.subplots(1, num_images, figsize=(24, 5))\n",
    "\n",
    "    for i, image in enumerate(all_color_channel_list):\n",
    "        ax[i].imshow(image, cmap='gray')\n",
    "        ax[i].set_title(f\"Image {i}\")\n",
    "        ax[i].axis('off')\n",
    "\n",
    "    plt.show()"
   ]
  }
 ],
 "metadata": {
  "kernelspec": {
   "display_name": "Python 3",
   "language": "python",
   "name": "python3"
  },
  "language_info": {
   "codemirror_mode": {
    "name": "ipython",
    "version": 3
   },
   "file_extension": ".py",
   "mimetype": "text/x-python",
   "name": "python",
   "nbconvert_exporter": "python",
   "pygments_lexer": "ipython3",
   "version": "3.6.13"
  }
 },
 "nbformat": 4,
 "nbformat_minor": 5
}
