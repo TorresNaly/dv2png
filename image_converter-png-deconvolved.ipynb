{
 "cells": [
  {
   "cell_type": "markdown",
   "id": "86f252d2-b8d6-4909-985a-51fb20cec21b",
   "metadata": {
    "tags": []
   },
   "source": [
    "## FISH Image Converter-local (version 1.0)"
   ]
  },
  {
   "cell_type": "code",
   "execution_count": 1,
   "id": "2a7a69f0",
   "metadata": {
    "jupyter": {
     "source_hidden": true
    },
    "tags": []
   },
   "outputs": [],
   "source": [
    "# Import packages\n",
    "import os\n",
    "import shutil\n",
    "from smb.SMBConnection import SMBConnection\n",
    "import tempfile\n",
    "import re\n",
    "\n",
    "import matplotlib.pyplot as plt\n",
    "import numpy as np\n",
    "\n",
    "# import tifffile\n",
    "import bigfish\n",
    "import bigfish.stack as stack\n",
    "import bigfish.plot as plot\n",
    "import bigfish.multistack as multistack\n",
    "import bigfish.detection as detection\n",
    "\n",
    "from fpdf import FPDF\n",
    "import os\n",
    "import glob\n",
    "from datetime import datetime\n"
   ]
  },
  {
   "cell_type": "markdown",
   "id": "86e8b495",
   "metadata": {},
   "source": [
    "#### Input Image info:"
   ]
  },
  {
   "cell_type": "code",
   "execution_count": 2,
   "id": "c35f572a",
   "metadata": {
    "tags": []
   },
   "outputs": [],
   "source": [
    "your_name = '' #your_name\n",
    "\n",
    "#specify the location of your data on the NAS\n",
    "input_directory = ' ' #/your/input/directory\n",
    "output_directory = ' ' #/your/output/directory\n",
    "\n",
    "#specify what you have in every channel\n",
    "Cy5 = \" \" # your 670 channel (asymmetric control)\n",
    "mCherry = \" \" # your 610 channel (query RNA)\n",
    "FITC = \" \" # your protein channel (protein markers)\n",
    "DAPI = \" \" \n",
    "\n",
    "# NAS credentials and connection information\n",
    "nas_host = ' ' #your_nas_server_hostname_or_ip'\n",
    "nas_user = ' ' #your_username\n",
    "nas_password = ' ' #your_password\n",
    "nas_share = ' ' #(specific for the Nishimura lab - edit accordingly)"
   ]
  },
  {
   "cell_type": "markdown",
   "id": "0bab9bf0-381c-46ed-a30b-bf23332a86a1",
   "metadata": {},
   "source": [
    "#### Connect to the NAS"
   ]
  },
  {
   "cell_type": "code",
   "execution_count": 3,
   "id": "93ec442c-3af3-4abd-9c37-1098fd8be002",
   "metadata": {
    "jupyter": {
     "source_hidden": true
    },
    "tags": []
   },
   "outputs": [
    {
     "name": "stdout",
     "output_type": "stream",
     "text": [
      "Connection is established.\n"
     ]
    }
   ],
   "source": [
    "experiment_ID = input_directory.split(os.path.sep)[-1]\n",
    "output_directory = os.path.join(output_directory, experiment_ID, 'images')\n",
    "\n",
    "\n",
    "# Connect to the NAS\n",
    "conn = SMBConnection(nas_user, nas_password, 'python-client', nas_host, use_ntlm_v2=True)\n",
    "conn.connect(nas_host, 445)\n",
    "\n",
    "# Check if connection is successfully established\n",
    "smb_directory_path = os.path.relpath(input_directory, '/Volumes/WormHole')\n",
    "shared_files = conn.listPath(nas_share, smb_directory_path) # move into folder with raw data\n",
    "if shared_files:\n",
    "    print(\"Connection is established.\")\n",
    "else:\n",
    "    print(\"Connection is not established.\")\n",
    "    \n",
    "# #print the filenames, save in a list \n",
    "# filenames = [shared_file.filename for shared_file in shared_files if shared_file.filename.endswith((\"_R3D.dv\",\"_R3D_REF.dv\"))]\n",
    "# filenames = sorted(filenames)\n",
    "# filenames"
   ]
  },
  {
   "cell_type": "markdown",
   "id": "6ae67898-a1ab-42ca-9ca1-a3170ad411cd",
   "metadata": {},
   "source": [
    "## <font color='red'>STOP!</font> Do not edit below this line"
   ]
  },
  {
   "cell_type": "markdown",
   "id": "6ff14853-fc24-47de-a50a-a00d3986684d",
   "metadata": {
    "tags": []
   },
   "source": [
    "### 1. Code to read images directly from the NAS and save as a png"
   ]
  },
  {
   "cell_type": "markdown",
   "id": "d81e98a2-73d9-4ad4-ad58-73b6f9fe699d",
   "metadata": {
    "tags": []
   },
   "source": [
    "#### 1.1 List file paths and read image stacks"
   ]
  },
  {
   "cell_type": "code",
   "execution_count": 4,
   "id": "f1314bcc-fe77-4b10-88a9-e27efd5db744",
   "metadata": {},
   "outputs": [],
   "source": [
    "#List all the color images and brightfield images in separate lists\n",
    "image_color_paths = []\n",
    "bf_paths = []\n",
    "\n",
    "for shared_file in shared_files:\n",
    "    file_path = os.path.join(input_directory, shared_file.filename) \n",
    "    if shared_file.filename.endswith(\"_R3D_D3D.dv\"):\n",
    "        # If it does, append it to the image_colors_paths list\n",
    "        image_color_paths.append(file_path)\n",
    "        image_color_paths = sorted(image_color_paths)\n",
    "    elif shared_file.filename.endswith(\"_R3D_REF.dv\"):\n",
    "        # If it ends with \"_R3D_REF.dv\", append it to the bf_paths list\n",
    "        bf_paths.append(file_path)\n",
    "        bf_paths = sorted(bf_paths)\n",
    "\n",
    "#Read all the image_color stacks and extract the image identifiers to save in \"subdirectories\"\n",
    "all_image_color_stacks = []\n",
    "subdirectories = []\n",
    "for image_color_path in image_color_paths:\n",
    "    image_color_stack = stack.read_dv(image_color_path, sanity_check=False)\n",
    "    all_image_color_stacks.append(image_color_stack)\n",
    "    file_name = os.path.splitext(os.path.basename(image_color_path))[0]\n",
    "    parts = file_name.split('_')\n",
    "    numeric_part = None\n",
    "    for i, part in enumerate(parts):\n",
    "        if part == 'R3D':\n",
    "            numeric_part = parts[i - 1]\n",
    "            break\n",
    "    if numeric_part is not None:\n",
    "        subdirectories.append(numeric_part)\n",
    "\n",
    "#Read all the bf stacks\n",
    "all_bf_stacks = []\n",
    "for bf_path in bf_paths:\n",
    "    bf_stack = stack.read_dv(bf_path, sanity_check=False)\n",
    "    all_bf_stacks.append(bf_stack)"
   ]
  },
  {
   "cell_type": "markdown",
   "id": "b0ce6d1d-e55d-4d43-b4cf-5c20ce13a509",
   "metadata": {},
   "source": [
    "#### 1.2 Split channels, max project and save in image subdirectory"
   ]
  },
  {
   "cell_type": "code",
   "execution_count": 5,
   "id": "a3a56219-9705-4df4-b3cd-f97a93f70943",
   "metadata": {
    "tags": []
   },
   "outputs": [
    {
     "name": "stdout",
     "output_type": "stream",
     "text": [
      "0 images saved as png in /Volumes/home/01_imaging/231004_WNT002_erm-1_set-2/images\n"
     ]
    }
   ],
   "source": [
    "# Now iterate through all_image_color_stacks and extract every channel, then store it in all_color_channel_list \n",
    "all_color_channel_list = []\n",
    "for i, stack in enumerate(all_image_color_stacks):\n",
    "    image_colors = all_image_color_stacks[i]\n",
    "    \n",
    "    # Assuming image_colors is a 4D array where the first dimension represents different channels\n",
    "    for channel_index in range(image_colors.shape[0]):\n",
    "        current_image = image_colors[channel_index, :, :]\n",
    "        all_color_channel_list.append(current_image)\n",
    "        \n",
    "\n",
    "        # Create a subdirectory to save each image as a PNG file\n",
    "        output_subdirectory = os.path.join(output_directory, f\"{subdirectories[i]}\")\n",
    "        os.makedirs(output_subdirectory, exist_ok=True)\n",
    "\n",
    "        channel_name = None\n",
    "        if channel_index == 0:\n",
    "            channel_name = Cy5\n",
    "        elif channel_index == 1:\n",
    "            channel_name = mCherry\n",
    "        elif channel_index == 2:\n",
    "            channel_name = FITC\n",
    "        elif channel_index == 3:\n",
    "            channel_name = DAPI\n",
    " \n",
    "        # Save each image as a PNG file\n",
    "        plot_filename = os.path.join(output_subdirectory, f\"{subdirectories[i]}_{channel_name}_deconvolved.png\")\n",
    "        plt.imsave(plot_filename, np.max(current_image, axis=0), cmap='gray')  # Adjust cmap if needed\n",
    "\n",
    "\n",
    "# Print the directory where the images are stored\n",
    "print(f\"{len(subdirectories)} images saved as png in {output_directory}\")"
   ]
  },
  {
   "cell_type": "markdown",
   "id": "b29c8690-9659-4652-8ffe-a5d2eb360365",
   "metadata": {},
   "source": [
    "#### 1.3 Generate pdf report with deconvolved images (as .png)"
   ]
  },
  {
   "cell_type": "code",
   "execution_count": 6,
   "id": "d5b486cb-6e4c-44de-83d4-f5a831ec7b3e",
   "metadata": {},
   "outputs": [
    {
     "ename": "FileNotFoundError",
     "evalue": "[Errno 2] No such file or directory: '/Volumes/home/01_imaging/231004_WNT002_erm-1_set-2/images/report.pdf'",
     "output_type": "error",
     "traceback": [
      "\u001b[0;31m---------------------------------------------------------------------------\u001b[0m",
      "\u001b[0;31mFileNotFoundError\u001b[0m                         Traceback (most recent call last)",
      "\u001b[0;32m<ipython-input-6-7bd8d7bacf45>\u001b[0m in \u001b[0;36m<module>\u001b[0;34m\u001b[0m\n\u001b[1;32m     77\u001b[0m \u001b[0;34m\u001b[0m\u001b[0m\n\u001b[1;32m     78\u001b[0m \u001b[0;31m# Output the PDF file\u001b[0m\u001b[0;34m\u001b[0m\u001b[0;34m\u001b[0m\u001b[0;34m\u001b[0m\u001b[0m\n\u001b[0;32m---> 79\u001b[0;31m \u001b[0mpdf\u001b[0m\u001b[0;34m.\u001b[0m\u001b[0moutput\u001b[0m\u001b[0;34m(\u001b[0m\u001b[0mpdf_filename\u001b[0m\u001b[0;34m)\u001b[0m\u001b[0;34m\u001b[0m\u001b[0;34m\u001b[0m\u001b[0m\n\u001b[0m\u001b[1;32m     80\u001b[0m \u001b[0mprint\u001b[0m\u001b[0;34m(\u001b[0m\u001b[0;34mf\"PDF report created: {pdf_filename}\"\u001b[0m\u001b[0;34m)\u001b[0m\u001b[0;34m\u001b[0m\u001b[0;34m\u001b[0m\u001b[0m\n",
      "\u001b[0;32m~/anaconda3/envs/bigfish_env/lib/python3.6/site-packages/fpdf/fpdf.py\u001b[0m in \u001b[0;36moutput\u001b[0;34m(self, name, dest)\u001b[0m\n\u001b[1;32m   1077\u001b[0m         \u001b[0;32melif\u001b[0m \u001b[0mdest\u001b[0m\u001b[0;34m==\u001b[0m\u001b[0;34m'F'\u001b[0m\u001b[0;34m:\u001b[0m\u001b[0;34m\u001b[0m\u001b[0;34m\u001b[0m\u001b[0m\n\u001b[1;32m   1078\u001b[0m             \u001b[0;31m#Save to local file\u001b[0m\u001b[0;34m\u001b[0m\u001b[0;34m\u001b[0m\u001b[0;34m\u001b[0m\u001b[0m\n\u001b[0;32m-> 1079\u001b[0;31m             \u001b[0mf\u001b[0m\u001b[0;34m=\u001b[0m\u001b[0mopen\u001b[0m\u001b[0;34m(\u001b[0m\u001b[0mname\u001b[0m\u001b[0;34m,\u001b[0m\u001b[0;34m'wb'\u001b[0m\u001b[0;34m)\u001b[0m\u001b[0;34m\u001b[0m\u001b[0;34m\u001b[0m\u001b[0m\n\u001b[0m\u001b[1;32m   1080\u001b[0m             \u001b[0;32mif\u001b[0m\u001b[0;34m(\u001b[0m\u001b[0;32mnot\u001b[0m \u001b[0mf\u001b[0m\u001b[0;34m)\u001b[0m\u001b[0;34m:\u001b[0m\u001b[0;34m\u001b[0m\u001b[0;34m\u001b[0m\u001b[0m\n\u001b[1;32m   1081\u001b[0m                 \u001b[0mself\u001b[0m\u001b[0;34m.\u001b[0m\u001b[0merror\u001b[0m\u001b[0;34m(\u001b[0m\u001b[0;34m'Unable to create output file: '\u001b[0m\u001b[0;34m+\u001b[0m\u001b[0mname\u001b[0m\u001b[0;34m)\u001b[0m\u001b[0;34m\u001b[0m\u001b[0;34m\u001b[0m\u001b[0m\n",
      "\u001b[0;31mFileNotFoundError\u001b[0m: [Errno 2] No such file or directory: '/Volumes/home/01_imaging/231004_WNT002_erm-1_set-2/images/report.pdf'"
     ]
    }
   ],
   "source": [
    "import os\n",
    "import glob\n",
    "from fpdf import FPDF\n",
    "from datetime import datetime\n",
    "\n",
    "# Function to generate the cover letter\n",
    "def add_cover_letter(experiment_details, readme_content):\n",
    "    pdf.add_page()\n",
    "    pdf.set_font(\"Arial\", size=14)\n",
    "    pdf.cell(100, 10, txt=(f\"Experiment Title: {experiment_ID}\"), ln=True, align='C')\n",
    "    pdf.ln(2)\n",
    "\n",
    "    # Add experiment details\n",
    "    for detail in experiment_details:\n",
    "        pdf.cell(200, 10, txt=detail, ln=True, align='L')\n",
    "    \n",
    "    pdf.ln(5)\n",
    "\n",
    "    # Add README content\n",
    "    pdf.multi_cell(0, 10, txt=readme_content)\n",
    "    pdf.ln(10)\n",
    "\n",
    "# Create a PDF report\n",
    "pdf_filename = os.path.join(output_directory, \"report.pdf\")\n",
    "pdf = FPDF()\n",
    "pdf.set_auto_page_break(auto=True, margin=15)\n",
    "\n",
    "# Find the file that ends with \"README\"\n",
    "readme_file = None\n",
    "for file_path in glob.glob(os.path.join(input_directory, '*README.*')):\n",
    "    readme_file = file_path\n",
    "    break\n",
    "\n",
    "if readme_file:\n",
    "    # Read README content\n",
    "    with open(readme_file, \"r\") as file:\n",
    "        readme_content = file.read()\n",
    "else:\n",
    "    readme_content = \"No README file found.\"\n",
    "\n",
    "# Add cover letter once at the beginning\n",
    "today_date = datetime.now().strftime(\"%B %d, %Y\")\n",
    "add_cover_letter([f\"Date of processing: {today_date}\",\n",
    "                  f\"Processed by: {your_name}\",\n",
    "                  \" \",\n",
    "                 \"Readme file:\"], readme_content)\n",
    "\n",
    "# Add a single page for all images\n",
    "pdf.add_page()\n",
    "pdf.set_font(\"Arial\", size=12)\n",
    "\n",
    "# Iterate through subdirectories and add images\n",
    "for subdirectory in sorted(subdirectories):\n",
    "    # Add experiment title and image ID\n",
    "    pdf.cell(200, 10, txt=f\"Image ID: {experiment_ID}_{subdirectory}\", ln=True, align='L')\n",
    "    pdf.ln(5)\n",
    "\n",
    "    # Get PNG files in the subdirectory\n",
    "    subdirectory_path = os.path.join(output_directory, subdirectory)\n",
    "    png_files = glob.glob(os.path.join(subdirectory_path, '*.png'))\n",
    "\n",
    "    # Calculate the number of columns that can fit on the page\n",
    "    max_columns = 4  # You can adjust this value based on your preference\n",
    "    num_columns = min(len(png_files), max_columns)\n",
    "\n",
    "    # Calculate the width of each column\n",
    "    column_width = 190 / num_columns\n",
    "\n",
    "    # Add images to the PDF in columns with space between images\n",
    "    for i, png_file in enumerate(sorted(png_files)):\n",
    "        x_position = pdf.get_x() + i % num_columns * column_width\n",
    "        y_position = pdf.get_y() + int(i / num_columns) * 20  # Adjust space between rows\n",
    "\n",
    "        pdf.image(png_file, x=x_position, y=y_position, w=column_width)\n",
    "    \n",
    "    pdf.ln(80 * ((len(png_files) - 1) // num_columns + 1))  # Adjust line height based on the number of rows\n",
    "\n",
    "# Output the PDF file\n",
    "pdf.output(pdf_filename)\n",
    "print(f\"PDF report created: {pdf_filename}\")\n"
   ]
  },
  {
   "cell_type": "markdown",
   "id": "19db453c-e474-48e7-a3de-ff74239335b6",
   "metadata": {},
   "source": [
    "### Code by Naly Torres. Last edited March 14th. 2024"
   ]
  }
 ],
 "metadata": {
  "kernelspec": {
   "display_name": "Python 3",
   "language": "python",
   "name": "python3"
  },
  "language_info": {
   "codemirror_mode": {
    "name": "ipython",
    "version": 3
   },
   "file_extension": ".py",
   "mimetype": "text/x-python",
   "name": "python",
   "nbconvert_exporter": "python",
   "pygments_lexer": "ipython3",
   "version": "3.6.13"
  }
 },
 "nbformat": 4,
 "nbformat_minor": 5
}
